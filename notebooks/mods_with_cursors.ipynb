{
 "cells": [
  {
   "attachments": {},
   "cell_type": "markdown",
   "metadata": {},
   "source": [
    "# Modify data using cursors\n",
    " Run each cell, predicting the results as you go. View your results using ArcPro.  Respond to Q1-Q3 when you encounter them."
   ]
  },
  {
   "attachments": {},
   "cell_type": "markdown",
   "metadata": {},
   "source": [
    "### Load data and packages"
   ]
  },
  {
   "cell_type": "code",
   "execution_count": null,
   "metadata": {},
   "outputs": [],
   "source": [
    "import arcpy\n",
    "import os\n",
    "import traceback\n",
    "arcpy.overwriteOutput = \"True\"\n",
    "# If you don't have a C:\gispy\scratch directory, modify to a directory you can use for scratch work.",
    "arcpy.env.workspace = \"C:/gispy/scratch\"" 
   ]
  },
  {
   "cell_type": "markdown",
   "metadata": {},
   "source": [
    "Copy the point shapefile to a scratch directory to avoid editing our original data."
   ]
  },
  {
   "cell_type": "code",
   "execution_count": null,
   "metadata": {},
   "outputs": [],
   "source": [
    "fc_orig = \"C:/gispy/data/ch02/fires.shp\"\n",
    "fc = os.path.basename(fc_orig)\n",
    "try:\n",
    "    #If a copy is already in the scratch directory, try to remove it.\n",
    "    if arcpy.Exists(fc):\n",
    "        arcpy.management.Delete(fc)\n",
    "except:\n",
    "    print(\"If the data already exists, proceed.\")\n",
    "\n",
    "try:\n",
    "    # Try to make a scratch copy of the data so we can modify it.\n",
    "    arcpy.management.Copy(fc_orig, fc)\n",
    "except:\n",
    "    traceback.print_exc()"
   ]
  },
  {
   "attachments": {},
   "cell_type": "markdown",
   "metadata": {},
   "source": [
    "### Examine the data\n",
    "How many records? How many fields does it have? What fields does it have?"
   ]
  },
  {
   "cell_type": "code",
   "execution_count": null,
   "metadata": {},
   "outputs": [],
   "source": [
    "field_objs = arcpy.ListFields(fc)\n",
    "field_names = [field_obj.name for field_obj in field_objs]\n",
    "\n",
    "n = len(field_names)//5\n",
    "print(f\"{fc} has {len(field_names)} fields and {arcpy.GetCount_management(fc)} records.\")\n",
    "print(f\"The first {n} field names are: {field_names[:n]}\")"
   ]
  },
  {
   "attachments": {},
   "cell_type": "markdown",
   "metadata": {},
   "source": [
    "Let's look at the first few columns:"
   ]
  },
  {
   "cell_type": "code",
   "execution_count": null,
   "metadata": {},
   "outputs": [],
   "source": [
    "with arcpy.da.SearchCursor(fc, field_names[:n]) as sc:\n",
    "    print(field_names[:n])\n",
    "    for row in sc:\n",
    "        print(row)\n",
    "    del sc"
   ]
  },
  {
   "attachments": {},
   "cell_type": "markdown",
   "metadata": {},
   "source": [
    "And the last few columns:"
   ]
  },
  {
   "cell_type": "code",
   "execution_count": null,
   "metadata": {},
   "outputs": [],
   "source": [
    "\n",
    "with arcpy.da.SearchCursor(fc, field_names[-n:]) as sc:\n",
    "    print(field_names[-n:])\n",
    "    for row in sc:\n",
    "        print(row)\n",
    "    del sc"
   ]
  },
  {
   "attachments": {},
   "cell_type": "markdown",
   "metadata": {},
   "source": [
    "### Define a where clause"
   ]
  },
  {
   "attachments": {},
   "cell_type": "markdown",
   "metadata": {},
   "source": [
    "The \"Authorized\" field looks inconsistent.  Let's take a closer look:"
   ]
  },
  {
   "cell_type": "code",
   "execution_count": null,
   "metadata": {},
   "outputs": [],
   "source": [
    "with arcpy.da.SearchCursor(fc, \"Authorized\") as sc:\n",
    "    for row in sc:\n",
    "        print(row)\n",
    "    del sc"
   ]
  },
  {
   "attachments": {},
   "cell_type": "markdown",
   "metadata": {},
   "source": [
    "The person named \"David W. Crary Jr.\" is referenced several different ways.  Let's select those records and update them for consistency."
   ]
  },
  {
   "cell_type": "code",
   "execution_count": null,
   "metadata": {},
   "outputs": [],
   "source": [
    "# First, let's try to select them.  Our first attempt may not be correct.  \n",
    "# Why does this code throw a RuntimeError?\n",
    "where_clause = \"Authorized LIKE %Crary\"\n",
    "with arcpy.da.SearchCursor(fc, \"Authorized\", where_clause) as sc:\n",
    "    for row in sc:\n",
    "        print(row)\n",
    "    del sc"
   ]
  },
  {
   "cell_type": "code",
   "execution_count": null,
   "metadata": {},
   "outputs": [],
   "source": [
    "# If you said the RuntimeError was due to missing quotation marks, you are correct.\n",
    "# Whenever we are specifying a *text* value, we must use inner quotes.\n",
    "where_clause = \"Authorized LIKE '%Crary'\"\n",
    "with arcpy.da.SearchCursor(fc, \"Authorized\", where_clause) as sc:\n",
    "    for row in sc:\n",
    "        print(row)\n",
    "    del sc"
   ]
  },
  {
   "attachments": {},
   "cell_type": "markdown",
   "metadata": {},
   "source": [
    "The above where_clause finds only two of the Crary records.  In fact, we can see that it's not returning any of the records that end with Jr.  The percent sign (% acts as a wildcard).  When we look for words like '%Crary', they can start with anything, as long as they end with Crary.  To also capture those words that have other endings, we can add another % behind Crary:  '%Crary%'"
   ]
  },
  {
   "cell_type": "code",
   "execution_count": null,
   "metadata": {},
   "outputs": [],
   "source": [
    "# First, let's select them and make sure our selection is correct.\n",
    "where_clause = \"Authorized LIKE '%Crary%'\"\n",
    "with arcpy.da.SearchCursor(fc, \"Authorized\", where_clause) as sc:\n",
    "    for row in sc:\n",
    "        print(row) \n",
    "    del sc"
   ]
  },
  {
   "attachments": {},
   "cell_type": "markdown",
   "metadata": {},
   "source": [
    "Now we have *almost* all of them.  We are missing the uppercase one.  We could use a logical operator (OR) as follows:"
   ]
  },
  {
   "cell_type": "code",
   "execution_count": null,
   "metadata": {},
   "outputs": [],
   "source": [
    "# First, let's select them and make sure our selection is correct.\n",
    "where_clause = \"Authorized LIKE '%CRARY%' OR Authorized LIKE '%Crary%'\"\n",
    "with arcpy.da.SearchCursor(fc, \"Authorized\", where_clause) as sc:\n",
    "    for row in sc:\n",
    "        print(row)\n",
    "    del sc "
   ]
  },
  {
   "attachments": {},
   "cell_type": "markdown",
   "metadata": {},
   "source": [
    "That works in this case, but would miss other casings (e.g., crary).  A better, more general solution is to be case-insensitive. To do this, we can ask for an all uppercase version of authorized and compare that to CRARY."
   ]
  },
  {
   "cell_type": "code",
   "execution_count": null,
   "metadata": {},
   "outputs": [],
   "source": [
    "# First, let's select them and make sure our selection is correct.\n",
    "where_clause = \"UPPER(Authorized) LIKE '%CRARY%'\"\n",
    "with arcpy.da.SearchCursor(fc, \"Authorized\", where_clause) as sc:\n",
    "    for row in sc:\n",
    "        print(row)\n",
    "    del sc"
   ]
  },
  {
   "attachments": {},
   "cell_type": "markdown",
   "metadata": {},
   "source": [
    "We have been printing the row tuple, instead of the value of Authorized.  To fix that, we need to index into the tuple:"
   ]
  },
  {
   "cell_type": "code",
   "execution_count": null,
   "metadata": {},
   "outputs": [],
   "source": [
    "# First, let's select them and make sure our selection is correct.\n",
    "where_clause = \"UPPER(Authorized) LIKE '%CRARY%'\"\n",
    "with arcpy.da.SearchCursor(fc, \"Authorized\", where_clause) as sc:\n",
    "    for row in sc:\n",
    "        print(row[0])\n",
    "    del sc "
   ]
  },
  {
   "attachments": {},
   "cell_type": "markdown",
   "metadata": {},
   "source": [
    "### Update cursor"
   ]
  },
  {
   "attachments": {},
   "cell_type": "markdown",
   "metadata": {},
   "source": [
    "Phew!  Now we have them all.  Let's replace them with a simple \"David Crary\""
   ]
  },
  {
   "cell_type": "code",
   "execution_count": null,
   "metadata": {},
   "outputs": [],
   "source": [
    "where_clause = \"UPPER(Authorized) LIKE '%CRARY%'\"\n",
    "with arcpy.da.UpdateCursor(fc, \"Authorized\", where_clause) as uc:\n",
    "    for row in uc:\n",
    "        print(f\"Before: {row[0]}\")\n",
    "        row[0] = \"David Crary\"\n",
    "        uc.updateRow(row)\n",
    "    del uc\n",
    "\n"
   ]
  },
  {
   "attachments": {},
   "cell_type": "markdown",
   "metadata": {},
   "source": [
    "Check that it worked by running the following code:"
   ]
  },
  {
   "cell_type": "code",
   "execution_count": null,
   "metadata": {},
   "outputs": [],
   "source": [
    "where_clause = \"UPPER(Authorized) LIKE '%CRARY%'\"\n",
    "with arcpy.da.SearchCursor(fc, \"Authorized\", where_clause) as sc:\n",
    "    for row in sc:\n",
    "        print(f\"After: {row[0]}\") \n",
    "\n",
    "with arcpy.da.SearchCursor(fc, field_names[-n:]) as sc:\n",
    "    print(field_names[-n:])\n",
    "    for row in sc:\n",
    "        print(row)\n",
    "    del sc"
   ]
  },
  {
   "attachments": {},
   "cell_type": "markdown",
   "metadata": {},
   "source": [
    "The \"EnteredByN\" field has a similar probelm with J. Shields. His name is John, but his friends call him Jack.  "
   ]
  },
  {
   "cell_type": "code",
   "execution_count": null,
   "metadata": {},
   "outputs": [],
   "source": [
    "with arcpy.da.SearchCursor(fc, \"EnteredByN\") as sc:\n",
    "    for row in sc:\n",
    "        print(row)\n",
    "    del sc"
   ]
  },
  {
   "attachments": {},
   "cell_type": "markdown",
   "metadata": {},
   "source": [
    "(Q1) Add code in the box below to change all the Jack or John Shields to \"John Shields\": "
   ]
  },
  {
   "cell_type": "code",
   "execution_count": null,
   "metadata": {},
   "outputs": [],
   "source": []
  },
  {
   "attachments": {},
   "cell_type": "markdown",
   "metadata": {},
   "source": [
    "### Insert cursors"
   ]
  },
  {
   "attachments": {},
   "cell_type": "markdown",
   "metadata": {},
   "source": [
    "Though you can insert rows in the attribute table without specifying the geometry, they will not appear on a map.  To add points, you can use the geometry token (@)."
   ]
  },
  {
   "cell_type": "code",
   "execution_count": null,
   "metadata": {},
   "outputs": [],
   "source": [
    "ic = arcpy.da.InsertCursor(fc, [\"FireId\", \"SHAPE@\"] )\n",
    "ic"
   ]
  },
  {
   "cell_type": "code",
   "execution_count": null,
   "metadata": {},
   "outputs": [],
   "source": [
    "myPoint = arcpy.Point(-70.1, 42.07)\n",
    "myPoint"
   ]
  },
  {
   "cell_type": "code",
   "execution_count": null,
   "metadata": {},
   "outputs": [],
   "source": [
    "newRow = (500000, myPoint)\n",
    "newRow"
   ]
  },
  {
   "cell_type": "code",
   "execution_count": null,
   "metadata": {},
   "outputs": [],
   "source": [
    "ic.insertRow(newRow)"
   ]
  },
  {
   "cell_type": "code",
   "execution_count": null,
   "metadata": {},
   "outputs": [],
   "source": [
    "del ic"
   ]
  },
  {
   "attachments": {},
   "cell_type": "markdown",
   "metadata": {},
   "source": [
    "In Catalog view, browse to the scratch directory ( C:\\gispy\\scratch ). Select the fires data and refresh the __table__ view.   Scroll to the bottom of the table. Do you see the new record? (Q2) How many records are there in total?"
   ]
  },
  {
   "attachments": {},
   "cell_type": "markdown",
   "metadata": {},
   "source": [
    "Make a copy, \"fires2.shp\", of the modified fires data by running the following code:"
   ]
  },
  {
   "cell_type": "code",
   "execution_count": null,
   "metadata": {},
   "outputs": [],
   "source": [
    "# Make another copy, so that previewing in \n",
    "# ArcGIS Pro does not interfere with editing the data.\n",
    "fc_orig = fc\n",
    "fc2 = fc.replace(\".shp\", \"2.shp\")\n",
    "try:\n",
    "    #If a copy is already in the scratch directory, try to remove it.\n",
    "    if arcpy.Exists(fc2):\n",
    "        arcpy.management.Delete(fc2)\n",
    "except:\n",
    "    print(\"If the data already exists, proceed.\")\n",
    "\n",
    "try:\n",
    "    # Try to make a scratch copy of the data so we can modify it.\n",
    "    arcpy.management.Copy(fc_orig, fc2)\n",
    "except:\n",
    "    traceback.print_exc()"
   ]
  },
  {
   "attachments": {},
   "cell_type": "markdown",
   "metadata": {},
   "source": [
    "(Q3) Next, you will add another point to fires2.shp.  Write code below to insert a row with *FireID* set to 123456, *FireName* set to \"Foothills\", and *ReportingU* set to \"SHEND\" at point -70.5, 41.  Be sure to use fc2 (instead of fc)."
   ]
  },
  {
   "cell_type": "code",
   "execution_count": null,
   "metadata": {},
   "outputs": [],
   "source": []
  },
  {
   "attachments": {},
   "cell_type": "markdown",
   "metadata": {},
   "source": [
    "Add a map to the project and add the fires2.shp data to the map. Open the attribute table.  Select the points you just added and view the selected points on the map."
   ]
  },
  {
   "attachments": {},
   "cell_type": "markdown",
   "metadata": {},
   "source": [
    "^^^^^^^^^^^^^^^^^^^^^^^^^^^^^^^^^^^^^^^^^^^^^^^^^^^^^<br>\n",
    "^^^^^^^^^^^^^^^^^^^^^^^^^^^^^^^^^^^^^^^^^^^^^^^^^^^^^<br>\n",
    "^^^^^^^^^^^^^^^^^^^^^^^^^^^^^^^^^^^^^^^^^^^^^^^^^^^^^<br>\n",
    "^^^^^^^^^^^^^^^^^^^^^^^^^^^^^^^^^^^^^^^^^^^^^^^^^^^^^<br>\n",
    "^^^^^^^^^^^^^^^^^^^^^^^^^^^^^^^^^^^^^^^^^^^^^^^^^^^^^<br>\n",
    "^^^^^^^^^^^^^^^^^^^^^^^^^^^^^^^^^^^^^^^^^^^^^^^^^^^^^<br>\n",
    "^^^^^^^^^^^^^^^^^^^^^^^^^^^^^^^^^^^^^^^^^^^^^^^^^^^^^<br>\n",
    "^^^^^^^^^^^^^^^^^^^^^^^^^^^^^^^^^^^^^^^^^^^^^^^^^^^^^<br>\n",
    "^^^^^^^^^^^^^^^^^^^^^^^^^^^^^^^^^^^^^^^^^^^^^^^^^^^^^<br>\n",
    "^^^^^^^^^^^^^^^^^^^^^^^^^^^^^^^^^^^^^^^^^^^^^^^^^^^^^<br>\n",
    "^^^^^^^^^^^^^^^^^^^^^^^^^^^^^^^^^^^^^^^^^^^^^^^^^^^^^<br>\n",
    "^^^^^^^^^^^^^^^^^^^^^^^^^^^^^^^^^^^^^^^^^^^^^^^^^^^^^<br>\n",
    "^^^^^^^^^^^^^^^^^^^^^^^^^^^^^^^^^^^^^^^^^^^^^^^^^^^^^<br>\n",
    "^^^^^^^^^^^^^^^^^^^^^^^^^^^^^^^^^^^^^^^^^^^^^^^^^^^^^<br>\n",
    "^^^^^^^^^^^^^^^^^^^^^^^^^^^^^^^^^^^^^^^^^^^^^^^^^^^^^<br>\n",
    "^^^^^^^^^^^^^^^^^^^^^^^^^^^^^^^^^^^^^^^^^^^^^^^^^^^^^<br>\n",
    "^^^^^^^^^^^^^^^^^^^^^^^^^^^^^^^^^^^^^^^^^^^^^^^^^^^^^<br>\n",
    "^^^^^^^^^^^^^^^^^^^^^^^^^^^^^^^^^^^^^^^^^^^^^^^^^^^^^<br>\n",
    "^^^^^^^^^^^^^^^^^^^^^^^^^^^^^^^^^^^^^^^^^^^^^^^^^^^^^<br>\n",
    "^^^^^^^^^^^^^^^^^^^^^^^^^^^^^^^^^^^^^^^^^^^^^^^^^^^^^<br>\n",
    "^^^^^^^^^^^^^^^^^^^^^^^^^^^^^^^^^^^^^^^^^^^^^^^^^^^^^<br>\n",
    "^^^^^^^^^^^^^^^^^^^^^^^^^^^^^^^^^^^^^^^^^^^^^^^^^^^^^<br>\n",
    "^^^^^^^^^^^^^^^^^^^^^^^^^^^^^^^^^^^^^^^^^^^^^^^^^^^^^<br>\n",
    "^^^^^^^^^^^^^^^^^^^^^^^^^^^^^^^^^^^^^^^^^^^^^^^^^^^^^<br>\n",
    "^^^^^^^^^^^^^^^^^^^^^^^^^^^^^^^^^^^^^^^^^^^^^^^^^^^^^<br>\n",
    "^^^^^^^^^^^^^^^^^^^^^^^^^^^^^^^^^^^^^^^^^^^^^^^^^^^^^<br>\n",
    "^^^^^^^^^^^^^^^^^^^^^^^^^^^^^^^^^^^^^^^^^^^^^^^^^^^^^<br>\n",
    "^^^^^^^^^^^^^^^^^^^^^^^^^^^^^^^^^^^^^^^^^^^^^^^^^^^^^<br>\n",
    "^^^^^^^^^^^^^^^^^^^^^^^^^^^^^^^^^^^^^^^^^^^^^^^^^^^^^<br>\n",
    "^^^^^^^^^^^^^^^^^^^^^^^^^^^^^^^^^^^^^^^^^^^^^^^^^^^^^<br>\n",
    "^^^^^^^^^^^^^^^^^^^^^^^^^^^^^^^^^^^^^^^^^^^^^^^^^^^^^<br>\n",
    "^^^^^^^^^^^^^^^^^^^^^^^^^^^^^^^^^^^^^^^^^^^^^^^^^^^^^<br>\n",
    "^^^^^^^^^^^^^^^^^^^^^^^^^^^^^^^^^^^^^^^^^^^^^^^^^^^^^<br>\n",
    "^^^^^^^^^^^^^^^^^^^^^^^^^^^^^^^^^^^^^^^^^^^^^^^^^^^^^<br>\n",
    "^^^^^^^^^^^^^^^^^^^^^^^^^^^^^^^^^^^^^^^^^^^^^^^^^^^^^<br>\n",
    "^^^^^^^^^^^^^^^^^^^^^^^^^^^^^^^^^^^^^^^^^^^^^^^^^^^^^<br>"
   ]
  },
  {
   "attachments": {},
   "cell_type": "markdown",
   "metadata": {},
   "source": [
    "### Solutions"
   ]
  },
  {
   "attachments": {},
   "cell_type": "markdown",
   "metadata": {},
   "source": [
    "(Q1) Add code in the box below to change all the Jack or John Shields to \"John Shields\": "
   ]
  },
  {
   "cell_type": "code",
   "execution_count": null,
   "metadata": {},
   "outputs": [],
   "source": [
    "where_clause = \"UPPER(EnteredByN) LIKE '%SHIELDS%'\"\n",
    "with arcpy.da.UpdateCursor(fc, \"EnteredByN\", where_clause) as uc:\n",
    "    for row in uc:\n",
    "        print(f\"Before: {row[0]}\")\n",
    "        row[0] = \"John Shields\"\n",
    "        uc.updateRow(row)\n",
    "    del uc"
   ]
  },
  {
   "attachments": {},
   "cell_type": "markdown",
   "metadata": {},
   "source": [
    "(Q2) The table should have 13 records after one record is added."
   ]
  },
  {
   "cell_type": "code",
   "execution_count": null,
   "metadata": {},
   "outputs": [],
   "source": []
  },
  {
   "attachments": {},
   "cell_type": "markdown",
   "metadata": {},
   "source": [
    "(Q3) Add code to insert another row with *FireID* set to 123456, *FireName* set to \"Foothills\", and *ReportingU* set to \"SHEND\" at point -70.5, 41."
   ]
  },
  {
   "cell_type": "code",
   "execution_count": null,
   "metadata": {},
   "outputs": [],
   "source": [
    "ic = arcpy.da.InsertCursor(fc2, [\"FireID\", \"FireName\", \"ReportingU\", \"SHAPE@\"] )\n",
    "myPoint = arcpy.Point(-70.5, 41)\n",
    "newRow = (123456, \"Foothills\", \"SHEND\", myPoint)\n",
    "ic.insertRow(newRow)\n",
    "del ic"
   ]
  }
 ],
 "metadata": {
  "kernelspec": {
   "display_name": "ArcGISPro",
   "language": "Python",
   "name": "python3"
  },
  "language_info": {
   "codemirror_mode": {
    "name": "ipython",
    "version": 3
   },
   "file_extension": ".py",
   "mimetype": "text/x-python",
   "name": "python",
   "nbconvert_exporter": "python",
   "pygments_lexer": "ipython3",
   "version": "3.7.10"
  },
  "vscode": {
   "interpreter": {
    "hash": "ce21b655b4d6c9e397d5ad93d5666c623f49909f6d0cc2f72076dafcf1b3ecfb"
   }
  }
 },
 "nbformat": 4,
 "nbformat_minor": 2
}
