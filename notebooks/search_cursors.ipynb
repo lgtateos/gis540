{
 "cells": [
  {
   "cell_type": "markdown",
   "metadata": {},
   "source": [
    "# Exploring cursors\n",
    "\n",
    "For each code cell, try to **predict** the output before you run it!  Discuss with a partner."
   ]
  },
  {
   "cell_type": "markdown",
   "metadata": {},
   "source": [
    "## Creating a search cursor\n",
    "\n",
    "The cursor can be created with just the full path file name of the data and a list of field names."
   ]
  },
  {
   "cell_type": "code",
   "execution_count": null,
   "metadata": {},
   "outputs": [],
   "source": [
    "import arcpy\n",
    "fc = \"C:/gispy/data/ch17/park.shp\"  \n",
    "fds = arcpy.ListFields(fc)\n",
    "fds"
   ]
  },
  {
   "cell_type": "markdown",
   "metadata": {},
   "source": [
    "How many fields does the data have?"
   ]
  },
  {
   "cell_type": "code",
   "execution_count": null,
   "metadata": {},
   "outputs": [],
   "source": [
    "len(fds)"
   ]
  },
  {
   "cell_type": "markdown",
   "metadata": {},
   "source": [
    "(Q1) Why does following code throw an exception?  "
   ]
  },
  {
   "cell_type": "code",
   "execution_count": null,
   "metadata": {},
   "outputs": [],
   "source": [
    "sc = arcpy.da.SearchCursor(fc, fds)\n",
    "#(Hint:  What does SearchCursor need for the 2nd argument?)"
   ]
  },
  {
   "cell_type": "markdown",
   "metadata": {},
   "source": [
    "(Q2) How can you get a list of the field names (with no hard-coding)?"
   ]
  },
  {
   "cell_type": "code",
   "execution_count": null,
   "metadata": {},
   "outputs": [],
   "source": [
    "# Replace hard-coded list in line 4 so that the\n",
    "# code will still work if a field is removed. \n",
    "# (Hint: you can derive it from fds)\n",
    "field_names = ['FID', 'Shape', 'COVER', 'RECNO']\n",
    "field_names"
   ]
  },
  {
   "cell_type": "markdown",
   "metadata": {},
   "source": [
    "Let's try to create the SearchCursor again!"
   ]
  },
  {
   "cell_type": "code",
   "execution_count": null,
   "metadata": {},
   "outputs": [],
   "source": [
    "sc = arcpy.da.SearchCursor(fc, field_names)\n",
    "sc"
   ]
  },
  {
   "cell_type": "markdown",
   "metadata": {},
   "source": [
    "## Traversing rows\n",
    "The rows can be traversed by calling *next()* or using a FOR-loop (or a combination of these)."
   ]
  },
  {
   "cell_type": "markdown",
   "metadata": {},
   "source": [
    "Here we get the first row of data by calling *next()* on the SearchCursor object.  "
   ]
  },
  {
   "cell_type": "code",
   "execution_count": null,
   "metadata": {},
   "outputs": [],
   "source": [
    "row = sc.next()\n",
    "print(f\"row = {row}\")\n",
    "print(f\"row[0] = {row[0]}\")"
   ]
  },
  {
   "cell_type": "markdown",
   "metadata": {},
   "source": [
    "What piece of data does *row[0]* represent?  What is the value of *row[2]*?"
   ]
  },
  {
   "cell_type": "code",
   "execution_count": null,
   "metadata": {},
   "outputs": [],
   "source": [
    "row[2]"
   ]
  },
  {
   "cell_type": "markdown",
   "metadata": {},
   "source": [
    "This is a polygon shapefile.  Notice the 2nd field, the shape field, it prints the coordinates of the polygon's centroid.  We'll revisit the geometric features in a moment."
   ]
  },
  {
   "cell_type": "code",
   "execution_count": null,
   "metadata": {},
   "outputs": [],
   "source": [
    "# Print the shape field\n",
    "row[1]"
   ]
  },
  {
   "cell_type": "markdown",
   "metadata": {},
   "source": [
    "Let's get the next row of data.  What will *row[0]* be?"
   ]
  },
  {
   "cell_type": "code",
   "execution_count": null,
   "metadata": {},
   "outputs": [],
   "source": [
    "row = sc.next()\n",
    "row[0]"
   ]
  },
  {
   "cell_type": "markdown",
   "metadata": {},
   "source": [
    "What does the cursor reset method do?  Run the next cell and observe the data to see if you guessed correctly."
   ]
  },
  {
   "cell_type": "code",
   "execution_count": null,
   "metadata": {},
   "outputs": [],
   "source": [
    "sc.reset( )\n",
    "\n",
    "row = sc.next()\n",
    "print(f\"row a = {row}\")\n",
    "\n",
    "row = sc.next()\n",
    "print(f\"row b = {row}\")"
   ]
  },
  {
   "cell_type": "markdown",
   "metadata": {},
   "source": [
    "*next()* is good for exploration, but more often you'll want to run through all the rows.  The cursor is an iterator, so you can just pop it in a FOR-loop. \n",
    "\n",
    "Note that it starts with the **3rd row** (where the *next()* left off) because that's where we left the cursor. "
   ]
  },
  {
   "cell_type": "code",
   "execution_count": null,
   "metadata": {},
   "outputs": [],
   "source": [
    "for row in sc:\n",
    "    print(row)"
   ]
  },
  {
   "cell_type": "markdown",
   "metadata": {},
   "source": [
    "(Q3) Why does the following code throw an error?"
   ]
  },
  {
   "cell_type": "code",
   "execution_count": null,
   "metadata": {},
   "outputs": [],
   "source": [
    "del sc\n",
    "sc"
   ]
  },
  {
   "cell_type": "markdown",
   "metadata": {},
   "source": [
    "## Working with geometry\n",
    "\n",
    "When we created our cursor with the fields 'FID', 'Shape', 'COVER', 'RECNO', and 'AREA',  the 'Shape' field only provided the polygon's centroid.  By instead specifying SHAPE@ as the field name, we can get the geometry object for the record.  Geometry objects can be type Point, Multipoint, Polyline, or Polygon. "
   ]
  },
  {
   "cell_type": "code",
   "execution_count": null,
   "metadata": {},
   "outputs": [],
   "source": [
    "field_names = [\"SHAPE@\"]\n",
    "\n",
    "sc = arcpy.da.SearchCursor(fc, field_names)\n",
    "row = sc.next()\n",
    "row"
   ]
  },
  {
   "cell_type": "markdown",
   "metadata": {},
   "source": [
    "What data type is row?"
   ]
  },
  {
   "cell_type": "code",
   "execution_count": null,
   "metadata": {},
   "outputs": [],
   "source": [
    "type(row)"
   ]
  },
  {
   "cell_type": "markdown",
   "metadata": {},
   "source": [
    "How long many items are in row?"
   ]
  },
  {
   "cell_type": "code",
   "execution_count": null,
   "metadata": {},
   "outputs": [],
   "source": [
    "len(row)"
   ]
  },
  {
   "cell_type": "markdown",
   "metadata": {},
   "source": [
    "That's a little quirk of Python tuples.  \n",
    "\n",
    "Tuples are created by the comma not the parentheses.\n",
    "\n",
    "So even if there's only one item in the tuple, it will be followed by a comma when you print it.\n",
    "\n",
    "E.g., here's a tuple with one item: ('foo',)"
   ]
  },
  {
   "cell_type": "code",
   "execution_count": null,
   "metadata": {},
   "outputs": [],
   "source": [
    "# As you can see, trying to access a second item in the row tuple throws an exception.\n",
    "row[1]"
   ]
  },
  {
   "cell_type": "markdown",
   "metadata": {},
   "source": [
    "Let's give it a more meaningful name.  "
   ]
  },
  {
   "cell_type": "code",
   "execution_count": null,
   "metadata": {},
   "outputs": [],
   "source": [
    "the_shape = row[0]"
   ]
  },
  {
   "cell_type": "markdown",
   "metadata": {},
   "source": [
    "What type of object is this?"
   ]
  },
  {
   "cell_type": "code",
   "execution_count": null,
   "metadata": {},
   "outputs": [],
   "source": [
    "type(the_shape)"
   ]
  },
  {
   "cell_type": "markdown",
   "metadata": {},
   "source": [
    "If you're using this notebook inside ArcGIS Pro,  the above code may throw an error.   You can ignore that.\n",
    "\n",
    "It's an arcpy Polygon type geometry object.  Here's how Python says the same thing:  \n",
    "\n",
    "arcpy.arcobjects.geometries.Polygon"
   ]
  },
  {
   "cell_type": "markdown",
   "metadata": {},
   "source": [
    "What type of shape is this?"
   ]
  },
  {
   "cell_type": "code",
   "execution_count": null,
   "metadata": {},
   "outputs": [],
   "source": [
    "the_shape.type"
   ]
  },
  {
   "cell_type": "markdown",
   "metadata": {},
   "source": [
    "What attributes do the Polygon objects have?"
   ]
  },
  {
   "cell_type": "code",
   "execution_count": null,
   "metadata": {},
   "outputs": [],
   "source": [
    "dir(the_shape)"
   ]
  },
  {
   "cell_type": "markdown",
   "metadata": {},
   "source": [
    "But how does this polygon look?"
   ]
  },
  {
   "cell_type": "code",
   "execution_count": null,
   "metadata": {},
   "outputs": [],
   "source": [
    "the_shape"
   ]
  },
  {
   "cell_type": "markdown",
   "metadata": {},
   "source": [
    "Cool!  (Q4) How about the next polygon?"
   ]
  },
  {
   "cell_type": "code",
   "execution_count": null,
   "metadata": {},
   "outputs": [],
   "source": [
    "# Insert code to get the next row and display the polygon in that row."
   ]
  },
  {
   "cell_type": "markdown",
   "metadata": {},
   "source": [
    "### Polygon property examples\n",
    "Each type of geometry object has a set of geospatial properties and methods.  Try the code below to see some of the Polygon properties.  For the complete list of Polygon properties/methods, search online for: polygon arcpy"
   ]
  },
  {
   "cell_type": "code",
   "execution_count": null,
   "metadata": {},
   "outputs": [],
   "source": [
    "the_shape.extent"
   ]
  },
  {
   "cell_type": "code",
   "execution_count": null,
   "metadata": {},
   "outputs": [],
   "source": [
    "the_shape.extent.XMin"
   ]
  },
  {
   "cell_type": "markdown",
   "metadata": {},
   "source": [
    "(Q5) How can you find the northernmost extent of this polygon?"
   ]
  },
  {
   "cell_type": "code",
   "execution_count": null,
   "metadata": {},
   "outputs": [],
   "source": [
    "# Insert code to find the northermost extent of this polygon."
   ]
  },
  {
   "cell_type": "code",
   "execution_count": null,
   "metadata": {},
   "outputs": [],
   "source": [
    "the_shape.centroid"
   ]
  },
  {
   "cell_type": "code",
   "execution_count": null,
   "metadata": {},
   "outputs": [],
   "source": [
    "type(the_shape.centroid)"
   ]
  },
  {
   "cell_type": "code",
   "execution_count": null,
   "metadata": {},
   "outputs": [],
   "source": [
    "the_shape.centroid.X"
   ]
  },
  {
   "cell_type": "code",
   "execution_count": null,
   "metadata": {},
   "outputs": [],
   "source": [
    "the_shape.pointCount"
   ]
  },
  {
   "cell_type": "code",
   "execution_count": null,
   "metadata": {},
   "outputs": [],
   "source": [
    "print(the_shape.firstPoint)\n",
    "print(the_shape.lastPoint)"
   ]
  },
  {
   "cell_type": "markdown",
   "metadata": {},
   "source": [
    "How can we traverse all of the polygon's points?   "
   ]
  },
  {
   "cell_type": "code",
   "execution_count": null,
   "metadata": {},
   "outputs": [],
   "source": [
    "for part in the_shape:\n",
    "    for pnt_num, pnt in enumerate(part):\n",
    "        print(f\"Point: {pnt_num}: {pnt.X}, {pnt.Y}\")"
   ]
  },
  {
   "cell_type": "markdown",
   "metadata": {},
   "source": [
    "The traversal code above assumes it's a single-part polygon and with no holes.    For the slightly more complex but more general version, search online for: arcpy reading polyline or polygon geometries"
   ]
  },
  {
   "cell_type": "markdown",
   "metadata": {},
   "source": [
    "(Q6) Can you guess how to determine the area?"
   ]
  },
  {
   "cell_type": "code",
   "execution_count": null,
   "metadata": {},
   "outputs": [],
   "source": [
    "# Insert code to get the area of the_shape."
   ]
  },
  {
   "cell_type": "markdown",
   "metadata": {},
   "source": [
    "Only the numerical value of the area is given.  What are the units for area? It will be determined by the dataset's units.   You can find this by looking at the spatial reference metadata:"
   ]
  },
  {
   "cell_type": "code",
   "execution_count": null,
   "metadata": {},
   "outputs": [],
   "source": [
    "the_shape.spatialReference"
   ]
  },
  {
   "cell_type": "markdown",
   "metadata": {},
   "source": [
    "### Polygons method examples\n",
    "Next, explore some of the Polygon methods."
   ]
  },
  {
   "cell_type": "code",
   "execution_count": null,
   "metadata": {},
   "outputs": [],
   "source": [
    "the_shape.boundary()"
   ]
  },
  {
   "cell_type": "markdown",
   "metadata": {},
   "source": [
    "To get the length, you need to specify measurement_type (e.g., PLANAR or GEODESIC) and units (FEET or METERS) "
   ]
  },
  {
   "cell_type": "code",
   "execution_count": null,
   "metadata": {},
   "outputs": [],
   "source": [
    "# getLength ({measurement_type}, {units})\n",
    "the_shape.getLength('PLANAR', 'METERS')"
   ]
  },
  {
   "cell_type": "code",
   "execution_count": null,
   "metadata": {},
   "outputs": [],
   "source": [
    "the_shape.convexHull()"
   ]
  },
  {
   "cell_type": "code",
   "execution_count": null,
   "metadata": {},
   "outputs": [],
   "source": [
    "buff_polygon = the_shape.buffer(50)\n",
    "buff_polygon"
   ]
  },
  {
   "cell_type": "code",
   "execution_count": null,
   "metadata": {},
   "outputs": [],
   "source": [
    "buff_polygon.contains(the_shape) "
   ]
  },
  {
   "cell_type": "markdown",
   "metadata": {},
   "source": [
    "(Q7) Use the *difference* method to make a polygon with only the buffered zone and minus the original polygon."
   ]
  },
  {
   "cell_type": "code",
   "execution_count": null,
   "metadata": {},
   "outputs": [],
   "source": [
    "# The difference method constructs the geometry that is \n",
    "# composed only of the region unique to the base geometry \n",
    "# but not part of the other geometry. \n",
    "# \n",
    "# Hint: Fill in the blanks below.\n",
    "#\n",
    "# _______.difference(______) "
   ]
  },
  {
   "cell_type": "markdown",
   "metadata": {},
   "source": [
    "## Filtering records\n",
    "The *where_clause* parameter enables you to filter the rows returned by the cursor.  This can improve performance and simplify code."
   ]
  },
  {
   "cell_type": "markdown",
   "metadata": {},
   "source": [
    "So far, we have only used the required parameters for the SearchCursor.  ArcGIS help shows the optional parameters in curly braces {}:\n",
    "\n",
    "*arcpy.da.SearchCursor (in_table, field_names, {where_clause}, {spatial_reference}, {explode_to_points}, {sql_clause}, {datum_transformation})*\n",
    "\n",
    "The first optional parameter, *where_clause*, enables you to filter the rows returned by the cursor.  This can improve performance and simplify code."
   ]
  },
  {
   "cell_type": "markdown",
   "metadata": {},
   "source": [
    "Here's an example that uses a where_clause.  Can you predict what it's going to do?"
   ]
  },
  {
   "cell_type": "code",
   "execution_count": null,
   "metadata": {},
   "outputs": [],
   "source": [
    "sc = arcpy.da.SearchCursor(in_table=fc, \n",
    "                          field_names=[\"FID\", \"COVER\"] , \n",
    "                          where_clause=\"COVER = 'other'\")\n",
    "\n",
    "# Advance the cursor to the first row it selected.\n",
    "row = sc.next( )\n",
    "\n",
    "row\n"
   ]
  },
  {
   "cell_type": "markdown",
   "metadata": {},
   "source": [
    "How is <> interpreted in the code below?"
   ]
  },
  {
   "cell_type": "code",
   "execution_count": null,
   "metadata": {},
   "outputs": [],
   "source": [
    "sc = arcpy.da.SearchCursor(in_table=fc, \n",
    "                          field_names=[\"FID\", \"COVER\"], \n",
    "                          where_clause=\"COVER <> 'woods'\")\n",
    "for row in sc:\n",
    "    print(f\"row = {row}\")"
   ]
  },
  {
   "cell_type": "markdown",
   "metadata": {},
   "source": [
    "Predict the output of the following code."
   ]
  },
  {
   "cell_type": "code",
   "execution_count": null,
   "metadata": {},
   "outputs": [],
   "source": [
    "sc =arcpy.da.SearchCursor(in_table=fc, \n",
    "                          field_names=[\"FID\", \"COVER\"] , \n",
    "                          where_clause=\"FID > 200\")\n",
    "row = sc.next()\n",
    "\n",
    "print(f\"row = {row}\")"
   ]
  },
  {
   "cell_type": "markdown",
   "metadata": {},
   "source": [
    "You can use comparison operators AND, OR, and NOT in the queries.  The example below returns only rows that have FID between 10 and 15 that have a cover type that is not orch (for orchard)."
   ]
  },
  {
   "cell_type": "code",
   "execution_count": null,
   "metadata": {},
   "outputs": [],
   "source": [
    "sc = arcpy.da.SearchCursor(in_table=fc, \n",
    "                          field_names=[\"RECNO\", \"COVER\"], \n",
    "                          where_clause=\"10<FID AND FID<15 AND COVER <> 'orch'\")\n",
    "for row in sc:\n",
    "    print(f\"row = {row}\")"
   ]
  },
  {
   "cell_type": "markdown",
   "metadata": {},
   "source": [
    "You could also use NOT to enforce inequality."
   ]
  },
  {
   "cell_type": "code",
   "execution_count": null,
   "metadata": {},
   "outputs": [],
   "source": [
    "sc = arcpy.da.SearchCursor(in_table=fc, \n",
    "                          field_names=[\"RECNO\", \"COVER\"], \n",
    "                          where_clause=\"10<FID AND FID<15 AND NOT COVER = 'orch'\")\n",
    "for row in sc:\n",
    "    print(f\"row = {row}\")"
   ]
  },
  {
   "cell_type": "markdown",
   "metadata": {},
   "source": [
    "Chaining inequality operators is not allowed in this context.  For example, the where_clause below is considered an invalid SQL statement."
   ]
  },
  {
   "cell_type": "code",
   "execution_count": null,
   "metadata": {},
   "outputs": [],
   "source": [
    "sc = arcpy.da.SearchCursor(in_table=fc, \n",
    "                          field_names=[\"RECNO\", \"COVER\"], \n",
    "                          where_clause=\"10<FID<15\")\n",
    "for row in sc:\n",
    "    print(f\"row = {row}\")"
   ]
  },
  {
   "cell_type": "markdown",
   "metadata": {},
   "source": [
    "(Q8) Get a cursor with only rows that have a cover type other than 'woods' and a RECNO less than 10 or greater than or equal to 420.  Hint: Consider using parentheses inside the statement to group the RECNO selection."
   ]
  },
  {
   "cell_type": "code",
   "execution_count": null,
   "metadata": {},
   "outputs": [],
   "source": []
  },
  {
   "cell_type": "markdown",
   "metadata": {},
   "source": [
    "For more about where_clause values, search online for:  SQL reference for query expressions used in ArcGIS"
   ]
  },
  {
   "cell_type": "markdown",
   "metadata": {},
   "source": [
    "## Answers\n",
    "\n",
    "Here are responses to the questions that were not answered earlier in the notebook."
   ]
  },
  {
   "cell_type": "markdown",
   "metadata": {},
   "source": [
    "(Q1) Instantiating the SearchCursor with *fds* (as shown below) throws an error because *fds* is a list of Field objects.  \n",
    "*fds = arcpy.ListFields(fc)*\n",
    "But the search cursor needs a list of (string) names of fields."
   ]
  },
  {
   "cell_type": "code",
   "execution_count": null,
   "metadata": {},
   "outputs": [],
   "source": [
    "sc = arcpy.da.SearchCursor(fc, fds)  # DON'T DO THIS"
   ]
  },
  {
   "cell_type": "markdown",
   "metadata": {},
   "source": [
    "(Q2) Still wondering how to dynamically get the field_names list?"
   ]
  },
  {
   "cell_type": "code",
   "execution_count": null,
   "metadata": {},
   "outputs": [],
   "source": [
    "field_names = [f.name for f in fds]"
   ]
  },
  {
   "cell_type": "markdown",
   "metadata": {},
   "source": [
    "You could then select a subset if desired, \n",
    "E.g., if you know you only want to use the last 2 fields:"
   ]
  },
  {
   "cell_type": "code",
   "execution_count": null,
   "metadata": {},
   "outputs": [],
   "source": [
    "field_names = [f.name for f in fds]\n",
    "field_names = field_names[-2:]"
   ]
  },
  {
   "cell_type": "markdown",
   "metadata": {},
   "source": [
    "In fact, if you want to get all of the fields, you don't need the list of names.  Instead, you can use a wildcard as a placeholder for this required argument:"
   ]
  },
  {
   "cell_type": "code",
   "execution_count": null,
   "metadata": {},
   "outputs": [],
   "source": [
    "field_names = [\"*\"]"
   ]
  },
  {
   "cell_type": "markdown",
   "metadata": {},
   "source": [
    "(Q3) The following code throws an error because it destroys the cursor object and then tries the use the object it just destroyed."
   ]
  },
  {
   "cell_type": "code",
   "execution_count": null,
   "metadata": {},
   "outputs": [],
   "source": [
    "del sc\n",
    "sc"
   ]
  },
  {
   "cell_type": "markdown",
   "metadata": {},
   "source": [
    "(Q4) To see the next polygon..."
   ]
  },
  {
   "cell_type": "code",
   "execution_count": null,
   "metadata": {},
   "outputs": [],
   "source": [
    "# Code to get the next row\n",
    "# and display the polygon in that row. \n",
    "row = sc.next()\n",
    "row[0] \n"
   ]
  },
  {
   "cell_type": "markdown",
   "metadata": {},
   "source": [
    "(Q5) How can you find the northernmost extent of this polygon?"
   ]
  },
  {
   "cell_type": "code",
   "execution_count": null,
   "metadata": {},
   "outputs": [],
   "source": [
    "the_shape.extent.YMax"
   ]
  },
  {
   "cell_type": "markdown",
   "metadata": {},
   "source": [
    "(Q6) How can you find the area of the_shape?"
   ]
  },
  {
   "cell_type": "code",
   "execution_count": null,
   "metadata": {},
   "outputs": [],
   "source": [
    "# Insert code to get the area of the_shape.\n",
    "the_shape.area"
   ]
  },
  {
   "cell_type": "markdown",
   "metadata": {},
   "source": [
    "(Q7) Using the difference method:"
   ]
  },
  {
   "cell_type": "code",
   "execution_count": null,
   "metadata": {},
   "outputs": [],
   "source": [
    "buff_polygon.difference(the_shape) "
   ]
  },
  {
   "cell_type": "markdown",
   "metadata": {},
   "source": [
    "(Q8) Get a cursor with only rows that have a cover type other than 'woods' and a RECNO less than 10 or greater than or equal to 420.  Hint: Consider using parentheses inside the statement to group the RECNO selection."
   ]
  },
  {
   "cell_type": "code",
   "execution_count": null,
   "metadata": {},
   "outputs": [],
   "source": [
    "sc = arcpy.da.SearchCursor(in_table=fc, \n",
    "                          field_names=[\"FID\", \"COVER\"], \n",
    "                          where_clause=\"NOT COVER = 'woods' AND (RECNO>=420 OR RECNO<10)\")\n",
    "for row in sc:\n",
    "    print(f\"row = {row}\")"
   ]
  }
 ],
 "metadata": {
  "kernelspec": {
   "display_name": "Python 3.7.10 64-bit ('arcgispro-py3')",
   "language": "python",
   "name": "python3"
  },
  "language_info": {
   "codemirror_mode": {
    "name": "ipython",
    "version": 3
   },
   "file_extension": ".py",
   "mimetype": "text/x-python",
   "name": "python",
   "nbconvert_exporter": "python",
   "pygments_lexer": "ipython3",
   "version": "3.7.10"
  },
  "vscode": {
   "interpreter": {
    "hash": "ce21b655b4d6c9e397d5ad93d5666c623f49909f6d0cc2f72076dafcf1b3ecfb"
   }
  }
 },
 "nbformat": 4,
 "nbformat_minor": 4
}
