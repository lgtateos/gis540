{
 "cells": [
  {
   "cell_type": "markdown",
   "metadata": {},
   "source": [
    "### About dictionaries"
   ]
  },
  {
   "cell_type": "markdown",
   "metadata": {},
   "source": [
    "You have already become acquainted with running notebooks within ArcGIS Pro.  But this one does not import arcpy, so we can run it online in a JupyterLab environment.  \n",
    "\n",
    "Run the lines of code one at a time by clicking the \"Run\" button in the toolbar above or typing shift + enter. Try to guess what they will do before you run them, and use the spaces provided to record your answers. To see how it works, select the cell below and type shift + enter.\n",
    "\n",
    "You are already familiar with int, float, bool, string, tuple, set, and list data types.  Now you'll see another data type, dictionaries. Like lists, they can be easily changed, shrunk, and grown. Dictionaries can be contained in lists and vice versa.\n",
    "\n",
    "But what's the difference between lists and dictionaries? The main difference is that items in dictionaries are accessed via keys and not via their position.\n",
    "\n",
    "Dictionaries consist of (key, value) pairs, such that each possible key appears at most once in the collection. Each dictionary key is associated with a value. The values of a dictionary can be any type of Python data. So, dictionaries consist of key-value-pairs. Dictionaries don't support indexing like strings, tuples and lists.  Instead, you must use access-by-key.  "
   ]
  },
  {
   "cell_type": "markdown",
   "metadata": {},
   "source": [
    "##### Let's get started!"
   ]
  },
  {
   "cell_type": "markdown",
   "metadata": {},
   "source": [
    "_________________________________________"
   ]
  },
  {
   "cell_type": "markdown",
   "metadata": {},
   "source": [
    "# Create and Use Dictionaries"
   ]
  },
  {
   "cell_type": "markdown",
   "metadata": {},
   "source": [
    "Our first example is a dictionary with cities located in the US and Canada and their corresponding population. We have taken those numbers from the <a href=\"https://en.wikipedia.org/wiki/List_of_North_American_cities_by_population\"> List of North American cities by population</a> from Wikipedia.\n",
    "\n",
    "If we want to get the population of one of those cities, all we have to do is to use the name of the city as an index. We can see that dictonaries are enclosed in curly brackets. They contain key-value pairs, referred to as items. A key and its corresponding value are separated by a colon:"
   ]
  },
  {
   "cell_type": "code",
   "execution_count": 1,
   "metadata": {},
   "outputs": [],
   "source": [
    "city_population = {\"New York City\": 8_550_405, \n",
    "                   \"Los Angeles\": 3_971_883, \n",
    "                   \"Toronto\": 2_731_571, \n",
    "                   \"Chicago\": 2_720_546, \n",
    "                   \"Houston\": 2_296_224, \n",
    "                   \"Montreal\": 1_704_694, \n",
    "                   \"Calgary\": 1_239_220, \n",
    "                   \"Vancouver\": 631_486, \n",
    "                   \"Boston\": 667_137}"
   ]
  },
  {
   "cell_type": "markdown",
   "metadata": {},
   "source": [
    "The above dictionary has 9 items (9 key-value pairs).  We can access the value for a specific key by putting this key in square brackets following the name of the dictionary:"
   ]
  },
  {
   "cell_type": "code",
   "execution_count": 2,
   "metadata": {},
   "outputs": [
    {
     "data": {
      "text/plain": [
       "8550405"
      ]
     },
     "execution_count": 2,
     "metadata": {},
     "output_type": "execute_result"
    }
   ],
   "source": [
    "city_population[\"New York City\"]"
   ]
  },
  {
   "cell_type": "markdown",
   "metadata": {},
   "source": []
  },
  {
   "cell_type": "code",
   "execution_count": 3,
   "metadata": {},
   "outputs": [
    {
     "data": {
      "text/plain": [
       "2731571"
      ]
     },
     "execution_count": 3,
     "metadata": {},
     "output_type": "execute_result"
    }
   ],
   "source": [
    "city_population[\"Toronto\"]"
   ]
  },
  {
   "cell_type": "markdown",
   "metadata": {},
   "source": [
    "(Q1) Can you get the population of Vancouver?"
   ]
  },
  {
   "cell_type": "code",
   "execution_count": 4,
   "metadata": {},
   "outputs": [
    {
     "data": {
      "text/plain": [
       "631486"
      ]
     },
     "execution_count": 4,
     "metadata": {},
     "output_type": "execute_result"
    }
   ],
   "source": [
    "city_population[\"Vancouver\"]"
   ]
  },
  {
   "cell_type": "markdown",
   "metadata": {},
   "source": [
    "(Q2) What happens, if we try to access a key which is not contained in the dictionary?  In this example, that would mean asking for a city that is not a key in our dictionary.  Try \"Raleigh\"."
   ]
  },
  {
   "cell_type": "code",
   "execution_count": 5,
   "metadata": {},
   "outputs": [
    {
     "ename": "KeyError",
     "evalue": "'Raleigh'",
     "output_type": "error",
     "traceback": [
      "\u001b[1;31m---------------------------------------------------------------------------\u001b[0m",
      "\u001b[1;31mKeyError\u001b[0m                                  Traceback (most recent call last)",
      "\u001b[1;32m~\\AppData\\Local\\Temp\\ipykernel_32576\\2199069762.py\u001b[0m in \u001b[0;36m<cell line: 1>\u001b[1;34m()\u001b[0m\n\u001b[1;32m----> 1\u001b[1;33m \u001b[0mcity_population\u001b[0m\u001b[1;33m[\u001b[0m\u001b[1;34m\"Raleigh\"\u001b[0m\u001b[1;33m]\u001b[0m\u001b[1;33m\u001b[0m\u001b[1;33m\u001b[0m\u001b[0m\n\u001b[0m",
      "\u001b[1;31mKeyError\u001b[0m: 'Raleigh'"
     ]
    }
   ],
   "source": [
    "city_population[\"Raleigh\"]\n",
    "\n",
    "# It throws a KeyError exception!"
   ]
  },
  {
   "cell_type": "markdown",
   "metadata": {},
   "source": [
    "A frequently asked question is if dictionary objects are ordered. The uncertainty arises from the fact that dictionaries were not sorted in versions before Python 3.7. In Python 3.7 and all later versions, dictionaries are sorted by the order of item insertion. In our example, this means the dictionary keeps the order in which we defined the dictionary. You can see this by printing the dictionary:"
   ]
  },
  {
   "cell_type": "code",
   "execution_count": 6,
   "metadata": {},
   "outputs": [
    {
     "data": {
      "text/plain": [
       "{'New York City': 8550405,\n",
       " 'Los Angeles': 3971883,\n",
       " 'Toronto': 2731571,\n",
       " 'Chicago': 2720546,\n",
       " 'Houston': 2296224,\n",
       " 'Montreal': 1704694,\n",
       " 'Calgary': 1239220,\n",
       " 'Vancouver': 631486,\n",
       " 'Boston': 667137}"
      ]
     },
     "execution_count": 6,
     "metadata": {},
     "output_type": "execute_result"
    }
   ],
   "source": [
    "city_population"
   ]
  },
  {
   "cell_type": "markdown",
   "metadata": {},
   "source": [
    "Yet, ordering doesn't mean that you have a way of directly calling the nth element of a dictionary. So trying to access a dictionary with a number - like we do with lists - will result in an exception:"
   ]
  },
  {
   "cell_type": "code",
   "execution_count": 7,
   "metadata": {},
   "outputs": [
    {
     "ename": "KeyError",
     "evalue": "0",
     "output_type": "error",
     "traceback": [
      "\u001b[1;31m---------------------------------------------------------------------------\u001b[0m",
      "\u001b[1;31mKeyError\u001b[0m                                  Traceback (most recent call last)",
      "\u001b[1;32m~\\AppData\\Local\\Temp\\ipykernel_32576\\3234822758.py\u001b[0m in \u001b[0;36m<cell line: 1>\u001b[1;34m()\u001b[0m\n\u001b[1;32m----> 1\u001b[1;33m \u001b[0mcity_population\u001b[0m\u001b[1;33m[\u001b[0m\u001b[1;36m0\u001b[0m\u001b[1;33m]\u001b[0m\u001b[1;33m\u001b[0m\u001b[1;33m\u001b[0m\u001b[0m\n\u001b[0m",
      "\u001b[1;31mKeyError\u001b[0m: 0"
     ]
    }
   ],
   "source": [
    "city_population[0]"
   ]
  },
  {
   "cell_type": "markdown",
   "metadata": {},
   "source": [
    "It is very easy to add another entry to an existing dictionary:"
   ]
  },
  {
   "cell_type": "code",
   "execution_count": 8,
   "metadata": {},
   "outputs": [
    {
     "data": {
      "text/plain": [
       "{'New York City': 8550405,\n",
       " 'Los Angeles': 3971883,\n",
       " 'Toronto': 2731571,\n",
       " 'Chicago': 2720546,\n",
       " 'Houston': 2296224,\n",
       " 'Montreal': 1704694,\n",
       " 'Calgary': 1239220,\n",
       " 'Vancouver': 631486,\n",
       " 'Boston': 667137,\n",
       " 'Halifax': 390096}"
      ]
     },
     "execution_count": 8,
     "metadata": {},
     "output_type": "execute_result"
    }
   ],
   "source": [
    "city_population[\"Halifax\"] = 390096\n",
    "city_population"
   ]
  },
  {
   "cell_type": "markdown",
   "metadata": {},
   "source": [
    "You can also __update an item__ with the same notation.  Say the population of New York City has changed to 8_335_897.  To change this in your dictionary, you just set it using the key:"
   ]
  },
  {
   "cell_type": "code",
   "execution_count": 9,
   "metadata": {},
   "outputs": [
    {
     "data": {
      "text/plain": [
       "{'New York City': 8335897,\n",
       " 'Los Angeles': 3971883,\n",
       " 'Toronto': 2731571,\n",
       " 'Chicago': 2720546,\n",
       " 'Houston': 2296224,\n",
       " 'Montreal': 1704694,\n",
       " 'Calgary': 1239220,\n",
       " 'Vancouver': 631486,\n",
       " 'Boston': 667137,\n",
       " 'Halifax': 390096}"
      ]
     },
     "execution_count": 9,
     "metadata": {},
     "output_type": "execute_result"
    }
   ],
   "source": [
    "city_population[\"New York City\"] = 8_335_897\n",
    "city_population"
   ]
  },
  {
   "cell_type": "markdown",
   "metadata": {},
   "source": [
    "You can also create a dictionary incrementally by starting with an empty dictionary. We haven't mentioned so far, how to define an empty one. It can be done by using an empty pair of brackets. The following defines an empty dictionary called city:"
   ]
  },
  {
   "cell_type": "code",
   "execution_count": 10,
   "metadata": {},
   "outputs": [
    {
     "data": {
      "text/plain": [
       "{}"
      ]
     },
     "execution_count": 10,
     "metadata": {},
     "output_type": "execute_result"
    }
   ],
   "source": [
    "city_population = {}\n",
    "city_population"
   ]
  },
  {
   "cell_type": "code",
   "execution_count": 11,
   "metadata": {},
   "outputs": [
    {
     "data": {
      "text/plain": [
       "{'New York City': 8550405, 'Los Angeles': 3971883}"
      ]
     },
     "execution_count": 11,
     "metadata": {},
     "output_type": "execute_result"
    }
   ],
   "source": [
    "city_population['New York City'] = 8550405\n",
    "city_population['Los Angeles'] = 3971883\n",
    "city_population"
   ]
  },
  {
   "cell_type": "markdown",
   "metadata": {},
   "source": [
    "# What can keys and values be?"
   ]
  },
  {
   "cell_type": "markdown",
   "metadata": {},
   "source": [
    "Looking at our first examples with the cities and their population, you might have gotten the wrong impression that each _value_ in a dictionaries must be unique. Not true! The values can be the same. For example,..."
   ]
  },
  {
   "cell_type": "code",
   "execution_count": 12,
   "metadata": {},
   "outputs": [
    {
     "data": {
      "text/plain": [
       "{'bacon': 'yes', 'egg': 'yes', 'spam': 'no'}"
      ]
     },
     "execution_count": 12,
     "metadata": {},
     "output_type": "execute_result"
    }
   ],
   "source": [
    "# The Python programming language was named after \"Monty Python\", so how about some \"spam\"?\n",
    "food = {\"bacon\": \"yes\", \"egg\": \"yes\", \"spam\": \"no\" }\n",
    "food"
   ]
  },
  {
   "cell_type": "markdown",
   "metadata": {},
   "source": [
    "Keys of a dictionary have to be unique. If you try to use a key multiple times, the value of the last entry with that key \"wins\":"
   ]
  },
  {
   "cell_type": "code",
   "execution_count": 13,
   "metadata": {},
   "outputs": [
    {
     "data": {
      "text/plain": [
       "{'bacon': 'yes', 'spam': 'no', 'egg': 'yes', 'spamalot': 'yes'}"
      ]
     },
     "execution_count": 13,
     "metadata": {},
     "output_type": "execute_result"
    }
   ],
   "source": [
    "food = {\"bacon\" : \"yes\", \"spam\" : \"yes\", \"egg\" : \"yes\", \"spam\" : \"no\", \"spamalot\" : \"yes\", }\n",
    "food"
   ]
  },
  {
   "cell_type": "markdown",
   "metadata": {},
   "source": [
    "So, far we have used strings for keys and numbers or strings for values. We could also use numbers for keys."
   ]
  },
  {
   "cell_type": "code",
   "execution_count": 14,
   "metadata": {},
   "outputs": [],
   "source": [
    "olympics_rank_2021 = {1 : \"United States\", 1 : \"People's Republic of China\", 3 : \"Taiwan\", 4 : \"Great Britain\", 5 : \"Japan\" }"
   ]
  },
  {
   "cell_type": "markdown",
   "metadata": {},
   "source": [
    "Some data types can not be used as dictionary keys. Only _immutable_ data types can be keys.  Both lists and dictionaries are mutablem so they can not be used as keys. If you try to use a mutable data type as a key, you get an error message."
   ]
  },
  {
   "cell_type": "code",
   "execution_count": 15,
   "metadata": {},
   "outputs": [
    {
     "ename": "TypeError",
     "evalue": "unhashable type: 'list'",
     "output_type": "error",
     "traceback": [
      "\u001b[1;31m---------------------------------------------------------------------------\u001b[0m",
      "\u001b[1;31mTypeError\u001b[0m                                 Traceback (most recent call last)",
      "\u001b[1;32m~\\AppData\\Local\\Temp\\ipykernel_32576\\3303660449.py\u001b[0m in \u001b[0;36m<cell line: 1>\u001b[1;34m()\u001b[0m\n\u001b[1;32m----> 1\u001b[1;33m \u001b[0mdic\u001b[0m \u001b[1;33m=\u001b[0m \u001b[1;33m{\u001b[0m\u001b[1;33m[\u001b[0m\u001b[1;36m1\u001b[0m\u001b[1;33m,\u001b[0m\u001b[1;36m2\u001b[0m\u001b[1;33m,\u001b[0m\u001b[1;36m3\u001b[0m\u001b[1;33m]\u001b[0m\u001b[1;33m:\u001b[0m \u001b[1;34m\"abc\"\u001b[0m\u001b[1;33m}\u001b[0m\u001b[1;33m\u001b[0m\u001b[1;33m\u001b[0m\u001b[0m\n\u001b[0m",
      "\u001b[1;31mTypeError\u001b[0m: unhashable type: 'list'"
     ]
    }
   ],
   "source": [
    "dic = {[1,2,3]: \"abc\"}"
   ]
  },
  {
   "cell_type": "markdown",
   "metadata": {},
   "source": [
    "Tuples are immutable, so a tuple as a key is okay:"
   ]
  },
  {
   "cell_type": "code",
   "execution_count": 16,
   "metadata": {},
   "outputs": [
    {
     "data": {
      "text/plain": [
       "{(1, 2, 3): 'abc', 3.1415: 'abc'}"
      ]
     },
     "execution_count": 16,
     "metadata": {},
     "output_type": "execute_result"
    }
   ],
   "source": [
    "dic = {(1, 2, 3): \"abc\", 3.1415: \"abc\"}\n",
    "dic"
   ]
  },
  {
   "cell_type": "markdown",
   "metadata": {},
   "source": [
    "There is no restriction on the data types for dictionary __values__.  In fact, the values themselves can be lists."
   ]
  },
  {
   "cell_type": "code",
   "execution_count": 17,
   "metadata": {},
   "outputs": [
    {
     "data": {
      "text/plain": [
       "['Northern', 'Central', 'Southern', 'East', 'Western']"
      ]
     },
     "execution_count": 17,
     "metadata": {},
     "output_type": "execute_result"
    }
   ],
   "source": [
    "regions = {\"Americas\" : [\"North\", \"Central\", \"South\"], \"Africa\":[\"Northern\", \"Central\", \"Southern\", \"East\", \"Western\"] }\n",
    "regions[\"Africa\"]"
   ]
  },
  {
   "cell_type": "markdown",
   "metadata": {},
   "source": [
    "Or the values can be dictionaries.   Our next example is a simple English-German dictionary (de stands for Deutsch, which means German).  We will create several translation dictionaries like this and then make a dictionary of dictionaries."
   ]
  },
  {
   "cell_type": "code",
   "execution_count": 18,
   "metadata": {},
   "outputs": [
    {
     "name": "stdout",
     "output_type": "stream",
     "text": [
      "{'red': 'rot', 'green': 'grün', 'blue': 'blau', 'yellow': 'gelb'}\n",
      "rot\n"
     ]
    }
   ],
   "source": [
    "en_de = {\"red\" : \"rot\", \"green\" : \"grün\", \"blue\" : \"blau\", \"yellow\":\"gelb\"}\n",
    "print(en_de)\n",
    "print(en_de[\"red\"])"
   ]
  },
  {
   "cell_type": "markdown",
   "metadata": {},
   "source": [
    "How about a German-French dictionary...\n",
    "Now it's even possible to translate from English to French, even though we don't have an English-French-dictionary. de_fr[en_de[\"red\"]] gives us the French word for \"red\", i.e. \"rouge\":"
   ]
  },
  {
   "cell_type": "code",
   "execution_count": 19,
   "metadata": {},
   "outputs": [
    {
     "data": {
      "text/plain": [
       "{'red': 'rot', 'green': 'grün', 'blue': 'blau', 'yellow': 'gelb'}"
      ]
     },
     "execution_count": 19,
     "metadata": {},
     "output_type": "execute_result"
    }
   ],
   "source": [
    "de_fr = {\"rot\": \"rouge\", \"grün\": \"vert\", \"blau\": \"bleu\", \"gelb\": \"jaune\"}\n",
    "en_de = {\"red\": \"rot\", \"green\": \"grün\", \"blue\": \"blau\", \"yellow\": \"gelb\"}\n",
    "en_de"
   ]
  },
  {
   "cell_type": "code",
   "execution_count": 20,
   "metadata": {},
   "outputs": [
    {
     "data": {
      "text/plain": [
       "'rot'"
      ]
     },
     "execution_count": 20,
     "metadata": {},
     "output_type": "execute_result"
    }
   ],
   "source": [
    "en_de[\"red\"]"
   ]
  },
  {
   "cell_type": "code",
   "execution_count": 21,
   "metadata": {},
   "outputs": [
    {
     "name": "stdout",
     "output_type": "stream",
     "text": [
      "The French word for red is: rouge\n"
     ]
    }
   ],
   "source": [
    "de_fr = {\"rot\" : \"rouge\", \"grün\" : \"vert\", \"blau\" : \"bleu\", \"gelb\":\"jaune\"}\n",
    "print(\"The French word for red is: \" + de_fr[en_de[\"red\"]])"
   ]
  },
  {
   "cell_type": "markdown",
   "metadata": {},
   "source": [
    "Let's improve our examples with the natural language dictionaries a bit. We create a dictionary of dictionaries:"
   ]
  },
  {
   "cell_type": "code",
   "execution_count": 26,
   "metadata": {},
   "outputs": [
    {
     "data": {
      "text/plain": [
       "{'en_de': {'red': 'rot', 'green': 'grün', 'blue': 'blau', 'yellow': 'gelb'},\n",
       " 'de_fr': {'rot': 'rouge', 'grün': 'vert', 'blau': 'bleu', 'gelb': 'jaune'},\n",
       " 'de_tr': {'rot': 'kırmızı', 'grün': 'yeşil', 'blau': 'mavi', 'gelb': 'jel'},\n",
       " 'en_es': {'red': 'rojo',\n",
       "  'green': 'verde',\n",
       "  'blue': 'azul',\n",
       "  'yellow': 'amarillo'}}"
      ]
     },
     "execution_count": 26,
     "metadata": {},
     "output_type": "execute_result"
    }
   ],
   "source": [
    "en_de = {\"red\" : \"rot\", \"green\" : \"grün\", \"blue\" : \"blau\", \"yellow\":\"gelb\"}\n",
    "de_fr = {\"rot\" : \"rouge\", \"grün\" : \"vert\", \"blau\" : \"bleu\", \"gelb\":\"jaune\"}\n",
    "de_tr = {\"rot\": \"kırmızı\", \"grün\": \"yeşil\", \"blau\": \"mavi\", \"gelb\": \"jel\"}\n",
    "en_es = {\"red\" : \"rojo\", \"green\" : \"verde\", \"blue\" : \"azul\", \"yellow\":\"amarillo\"}\n",
    "\n",
    "dictionaries = {\"en_de\" : en_de, \"de_fr\" : de_fr, \"de_tr\": de_tr, \"en_es\": en_es}\n",
    "dictionaries"
   ]
  },
  {
   "cell_type": "code",
   "execution_count": 27,
   "metadata": {},
   "outputs": [
    {
     "data": {
      "text/plain": [
       "{'red': 'rot', 'green': 'grün', 'blue': 'blau', 'yellow': 'gelb'}"
      ]
     },
     "execution_count": 27,
     "metadata": {},
     "output_type": "execute_result"
    }
   ],
   "source": [
    "dictionaries[\"en_de\"]  # English to German dictionary"
   ]
  },
  {
   "cell_type": "code",
   "execution_count": 28,
   "metadata": {},
   "outputs": [
    {
     "name": "stdout",
     "output_type": "stream",
     "text": [
      "blau\n"
     ]
    }
   ],
   "source": [
    "print(dictionaries[\"en_de\"][\"blue\"])    # equivalent to en_de['blue']"
   ]
  },
  {
   "cell_type": "code",
   "execution_count": 29,
   "metadata": {},
   "outputs": [
    {
     "data": {
      "text/plain": [
       "'blau'"
      ]
     },
     "execution_count": 29,
     "metadata": {},
     "output_type": "execute_result"
    }
   ],
   "source": [
    "en_de['blue']"
   ]
  },
  {
   "cell_type": "markdown",
   "metadata": {},
   "source": [
    "Specify a dictionary and a color before running this code:"
   ]
  },
  {
   "cell_type": "code",
   "execution_count": 31,
   "metadata": {},
   "outputs": [],
   "source": [
    "lang_pair = 'de_fr'  ## Specify a dictionary, e.g. 'de_fr', 'en_de'\n",
    "word_to_be_translated = \"red\" ## Specify a color\n",
    "\n",
    "d = dictionaries[lang_pair]\n",
    "if word_to_be_translated in d:\n",
    "    print(word_to_be_translated + \" --> \" + d[word_to_be_translated])"
   ]
  },
  {
   "cell_type": "markdown",
   "metadata": {},
   "source": [
    "(Q3) Notice how the above code checked if the word to be translated is in the dictionary before it tried to access it, using the _in_ keyword.  How can you check if \"rot\" is in d? "
   ]
  },
  {
   "cell_type": "code",
   "execution_count": 32,
   "metadata": {},
   "outputs": [
    {
     "data": {
      "text/plain": [
       "True"
      ]
     },
     "execution_count": 32,
     "metadata": {},
     "output_type": "execute_result"
    }
   ],
   "source": [
    "\"rot\" in d"
   ]
  },
  {
   "cell_type": "markdown",
   "metadata": {},
   "source": [
    "(Q4) Can you explain why the following code prints \"rouge\"?"
   ]
  },
  {
   "cell_type": "code",
   "execution_count": 33,
   "metadata": {},
   "outputs": [
    {
     "data": {
      "text/plain": [
       "'rouge'"
      ]
     },
     "execution_count": 33,
     "metadata": {},
     "output_type": "execute_result"
    }
   ],
   "source": [
    "dictionaries['de_fr'][dictionaries['en_de']['red']]\n",
    "\n",
    "# The code translates red to German and then translates the German for red to French, which is rouge."
   ]
  },
  {
   "cell_type": "markdown",
   "metadata": {},
   "source": [
    "(Q5) Can you use dictionaries, en_de, and de_tr to translate to the Turkish word for _green_?"
   ]
  },
  {
   "cell_type": "code",
   "execution_count": 34,
   "metadata": {},
   "outputs": [
    {
     "data": {
      "text/plain": [
       "'yeşil'"
      ]
     },
     "execution_count": 34,
     "metadata": {},
     "output_type": "execute_result"
    }
   ],
   "source": [
    "dictionaries['de_tr'][dictionaries['en_de']['green']]"
   ]
  },
  {
   "cell_type": "markdown",
   "metadata": {},
   "source": [
    "# Useful dictionary operations\n",
    "\n",
    "Like strings and lists, several operations can be performed on dictionaries.    \n",
    "<table><tr><th>Operation</th>    \t<th>Explanation </th></tr>\n",
    "<tr><td>len(d)</td>\t            <td>Returns the number of items, i.e. the number of (key,value) pairs.</td></tr>\n",
    "<tr><td>del d[k]</td>\t        <td>Deletes the key, k, together with its value.</td></tr>\n",
    "<tr><td>k in d</td>\t            <td>True, if a key, k, exists in the dictionary d.</td></tr>\n",
    "<tr><td>k not in d</td>\t        <td>True, if a key, k, doesn't exist in the dictionary d.</td></tr></table>"
   ]
  },
  {
   "cell_type": "code",
   "execution_count": 35,
   "metadata": {},
   "outputs": [
    {
     "data": {
      "text/plain": [
       "9"
      ]
     },
     "execution_count": 35,
     "metadata": {},
     "output_type": "execute_result"
    }
   ],
   "source": [
    "# Let's use our populations to try these!\n",
    "city_population = {\"New York City\": 8_550_405, \n",
    "                   \"Los Angeles\": 3_971_883, \n",
    "                   \"Toronto\": 2_731_571, \n",
    "                   \"Chicago\": 2_720_546, \n",
    "                   \"Houston\": 2_296_224, \n",
    "                   \"Montreal\": 1_704_694, \n",
    "                   \"Calgary\": 1_239_220, \n",
    "                   \"Vancouver\": 631_486, \n",
    "                   \"Boston\": 667_137}\n",
    "\n",
    "len(city_population)"
   ]
  },
  {
   "cell_type": "code",
   "execution_count": 36,
   "metadata": {},
   "outputs": [
    {
     "data": {
      "text/plain": [
       "True"
      ]
     },
     "execution_count": 36,
     "metadata": {},
     "output_type": "execute_result"
    }
   ],
   "source": [
    "\"Boston\" in city_population"
   ]
  },
  {
   "cell_type": "code",
   "execution_count": 37,
   "metadata": {},
   "outputs": [
    {
     "data": {
      "text/plain": [
       "{'New York City': 8550405,\n",
       " 'Los Angeles': 3971883,\n",
       " 'Toronto': 2731571,\n",
       " 'Chicago': 2720546,\n",
       " 'Houston': 2296224,\n",
       " 'Montreal': 1704694,\n",
       " 'Calgary': 1239220,\n",
       " 'Vancouver': 631486}"
      ]
     },
     "execution_count": 37,
     "metadata": {},
     "output_type": "execute_result"
    }
   ],
   "source": [
    "del city_population[\"Boston\"]\n",
    "city_population"
   ]
  },
  {
   "cell_type": "markdown",
   "metadata": {},
   "source": [
    "(Q6)  Now how many items are in city_population?  Use Python to confirm."
   ]
  },
  {
   "cell_type": "code",
   "execution_count": 38,
   "metadata": {},
   "outputs": [
    {
     "data": {
      "text/plain": [
       "8"
      ]
     },
     "execution_count": 38,
     "metadata": {},
     "output_type": "execute_result"
    }
   ],
   "source": [
    "len(city_population)"
   ]
  },
  {
   "cell_type": "code",
   "execution_count": 39,
   "metadata": {},
   "outputs": [
    {
     "data": {
      "text/plain": [
       "True"
      ]
     },
     "execution_count": 39,
     "metadata": {},
     "output_type": "execute_result"
    }
   ],
   "source": [
    "\"Boston\" not in city_population"
   ]
  },
  {
   "cell_type": "markdown",
   "metadata": {},
   "source": [
    "(Q7) Why does \"Boston\" not in city_population return True?"
   ]
  },
  {
   "cell_type": "markdown",
   "metadata": {},
   "source": [
    "Because Boston is not on the city_population dictionary. "
   ]
  },
  {
   "cell_type": "markdown",
   "metadata": {},
   "source": [
    "# Iterating over a Dictionary"
   ]
  },
  {
   "cell_type": "markdown",
   "metadata": {},
   "source": [
    "No method is needed to loop through the keys of a dictionary.  "
   ]
  },
  {
   "cell_type": "code",
   "execution_count": 40,
   "metadata": {},
   "outputs": [
    {
     "name": "stdout",
     "output_type": "stream",
     "text": [
      "Alabama\n",
      "Alaska\n",
      "Arizona\n",
      "Arkansas\n",
      "California\n"
     ]
    }
   ],
   "source": [
    "d = {\"Alabama\": \"AL\", \"Alaska\": \"AK\", \"Arizona\": \"AZ\", \"Arkansas\": \"AR\", \"California\": \"CA\"}\n",
    "for key in d:\n",
    "     print(key) "
   ]
  },
  {
   "cell_type": "markdown",
   "metadata": {},
   "source": [
    "You can simply put the dictionary name after the keyword _in_.  As usual with FOR-loops, you can make the iterator variable (the word between _for_ and _in_) any name you want."
   ]
  },
  {
   "cell_type": "code",
   "execution_count": 41,
   "metadata": {},
   "outputs": [
    {
     "name": "stdout",
     "output_type": "stream",
     "text": [
      "Alabama\n",
      "Alaska\n",
      "Arizona\n",
      "Arkansas\n",
      "California\n"
     ]
    }
   ],
   "source": [
    "for lollipop in d:\n",
    "    print(lollipop)"
   ]
  },
  {
   "cell_type": "markdown",
   "metadata": {},
   "source": [
    "You can also use the dictinary method named _keys()_.  That will yield the same result."
   ]
  },
  {
   "cell_type": "code",
   "execution_count": 42,
   "metadata": {},
   "outputs": [
    {
     "name": "stdout",
     "output_type": "stream",
     "text": [
      "Alabama\n",
      "Alaska\n",
      "Arizona\n",
      "Arkansas\n",
      "California\n"
     ]
    }
   ],
   "source": [
    "for key in d.keys():\n",
    "     print(key) "
   ]
  },
  {
   "cell_type": "markdown",
   "metadata": {},
   "source": [
    "The dictionary method named values() is a efficient way to iterate directly over the values:"
   ]
  },
  {
   "cell_type": "code",
   "execution_count": 44,
   "metadata": {},
   "outputs": [
    {
     "name": "stdout",
     "output_type": "stream",
     "text": [
      "AL\n",
      "AK\n",
      "AZ\n",
      "AR\n",
      "CA\n"
     ]
    }
   ],
   "source": [
    "for value in d.values():\n",
    "    print(value)"
   ]
  },
  {
   "cell_type": "markdown",
   "metadata": {},
   "source": [
    "You can iterate over the items and get both the key and the value at the same time.  To do this, use two variables between __for__ and __in__:"
   ]
  },
  {
   "cell_type": "code",
   "execution_count": 45,
   "metadata": {},
   "outputs": [
    {
     "name": "stdout",
     "output_type": "stream",
     "text": [
      "Alabama is abbreviated as AL.\n",
      "Alaska is abbreviated as AK.\n",
      "Arizona is abbreviated as AZ.\n",
      "Arkansas is abbreviated as AR.\n",
      "California is abbreviated as CA.\n"
     ]
    }
   ],
   "source": [
    "for key, value in d.items():\n",
    "    print(f\"{key} is abbreviated as {value}.\")"
   ]
  },
  {
   "cell_type": "markdown",
   "metadata": {},
   "source": [
    "You could also loop over the keys and use access-by-key to get each value, as in the following example.  This is less efficient, but yields the same results.  "
   ]
  },
  {
   "cell_type": "code",
   "execution_count": 46,
   "metadata": {},
   "outputs": [
    {
     "name": "stdout",
     "output_type": "stream",
     "text": [
      "AL\n",
      "AK\n",
      "AZ\n",
      "AR\n",
      "CA\n"
     ]
    }
   ],
   "source": [
    "for key in d:\n",
    "    print(d[key])"
   ]
  },
  {
   "cell_type": "markdown",
   "metadata": {},
   "source": [
    "(Q8) Create a country specialties dictionary with 4 countries and a dish that comes from that country. (E.g., Italy and pizza.) Then use _efficient_ loops to...<br>\n",
    "a) Write code to loop and print the countries. <br>\n",
    "b) Write another loop to print the dishes.<br>\n",
    "c) Write one more loop to print the country and the dish."
   ]
  },
  {
   "cell_type": "code",
   "execution_count": 48,
   "metadata": {},
   "outputs": [],
   "source": [
    "# Create a country specialties dictionary with 4 countries and a dish that comes from that country. \n",
    "country_specialties = {\"Italy\": \"Pasta\", \"France\":\"Baguette\",\"US\": \"Hot dog\", \"India\": \"Curry\"}  #responses will vary."
   ]
  },
  {
   "cell_type": "code",
   "execution_count": 49,
   "metadata": {},
   "outputs": [
    {
     "name": "stdout",
     "output_type": "stream",
     "text": [
      "Italy\n",
      "France\n",
      "US\n",
      "India\n"
     ]
    }
   ],
   "source": [
    "# a) Write code to loop and print the countries. \n",
    "for country in country_specialties:\n",
    "    print(country)"
   ]
  },
  {
   "cell_type": "code",
   "execution_count": 50,
   "metadata": {},
   "outputs": [
    {
     "name": "stdout",
     "output_type": "stream",
     "text": [
      "Pasta\n",
      "Baguette\n",
      "Hot dog\n",
      "Curry\n"
     ]
    }
   ],
   "source": [
    "# b) Write another loop to print the dishes. \n",
    "for dish in country_specialties.values():\n",
    "    print(dish)"
   ]
  },
  {
   "cell_type": "code",
   "execution_count": 52,
   "metadata": {},
   "outputs": [
    {
     "name": "stdout",
     "output_type": "stream",
     "text": [
      "Italy ->  Pasta\n",
      "France ->  Baguette\n",
      "US ->  Hot dog\n",
      "India ->  Curry\n"
     ]
    }
   ],
   "source": [
    "# c) Write one more loop to print the country and the dish. \n",
    "for country, dish in country_specialties.items():\n",
    "    print(f\"{country} ->  {dish}\")"
   ]
  },
  {
   "cell_type": "markdown",
   "metadata": {},
   "source": [
    "# Lists from dictionaries "
   ]
  },
  {
   "cell_type": "markdown",
   "metadata": {},
   "source": [
    "You can create lists from dictionaries by using the methods items(), keys() and values() and the list method. The keys() method creates a keys view, which when cast to list returns a list of the dictionary's keys. The same holds for values and items. A list of values can be produced by using values() and casting to a list.   The items() methods returns an items view, which can be used to create a list consisting of 2-tuples of (key,value)-pairs."
   ]
  },
  {
   "cell_type": "code",
   "execution_count": 53,
   "metadata": {},
   "outputs": [
    {
     "data": {
      "text/plain": [
       "dict_keys(['Ida', 'Dorian', 'Irene'])"
      ]
     },
     "execution_count": 53,
     "metadata": {},
     "output_type": "execute_result"
    }
   ],
   "source": [
    "w = {\"Ida\": 2021, \"Dorian\": 2019, \"Irene\": 2011}\n",
    "kv = w.keys()\n",
    "kv"
   ]
  },
  {
   "cell_type": "markdown",
   "metadata": {},
   "source": [
    "Now we can cast the key view to list and get a list of keys."
   ]
  },
  {
   "cell_type": "code",
   "execution_count": 54,
   "metadata": {},
   "outputs": [
    {
     "data": {
      "text/plain": [
       "['Ida', 'Dorian', 'Irene']"
      ]
     },
     "execution_count": 54,
     "metadata": {},
     "output_type": "execute_result"
    }
   ],
   "source": [
    "list(kv)"
   ]
  },
  {
   "cell_type": "markdown",
   "metadata": {},
   "source": [
    "Here we get a list of values, by calling the values() method and casting it to a list, all in one step:"
   ]
  },
  {
   "cell_type": "code",
   "execution_count": 55,
   "metadata": {},
   "outputs": [
    {
     "data": {
      "text/plain": [
       "[2021, 2019, 2011]"
      ]
     },
     "execution_count": 55,
     "metadata": {},
     "output_type": "execute_result"
    }
   ],
   "source": [
    "theValues = list(w.values())\n",
    "theValues"
   ]
  },
  {
   "cell_type": "markdown",
   "metadata": {},
   "source": [
    "We can do the same for the items: "
   ]
  },
  {
   "cell_type": "code",
   "execution_count": 56,
   "metadata": {},
   "outputs": [
    {
     "data": {
      "text/plain": [
       "[('Ida', 2021), ('Dorian', 2019), ('Irene', 2011)]"
      ]
     },
     "execution_count": 56,
     "metadata": {},
     "output_type": "execute_result"
    }
   ],
   "source": [
    "items_view = w.items()\n",
    "items = list(items_view)\n",
    "items"
   ]
  },
  {
   "cell_type": "code",
   "execution_count": 57,
   "metadata": {},
   "outputs": [
    {
     "data": {
      "text/plain": [
       "dict_items([('Ida', 2021), ('Dorian', 2019), ('Irene', 2011)])"
      ]
     },
     "execution_count": 57,
     "metadata": {},
     "output_type": "execute_result"
    }
   ],
   "source": [
    "items_view"
   ]
  },
  {
   "cell_type": "markdown",
   "metadata": {},
   "source": [
    "# Dictionary to replace elif.\n",
    "When code uses multiple conditions, testing the same variable and the code inside the condition sets or modifies another variable, this code can be made more efficient using a dictionary.  For example, the following code uses conditionals to increment the storm category based a wind-damage assessment:"
   ]
  },
  {
   "cell_type": "code",
   "execution_count": 58,
   "metadata": {},
   "outputs": [
    {
     "name": "stdout",
     "output_type": "stream",
     "text": [
      "minimal damage, category 1.\n"
     ]
    }
   ],
   "source": [
    "wind_damage = \"minimal\"\n",
    "cat = 0\n",
    "if wind_damage == \"minimal\":\n",
    "    category = cat + 1\n",
    "elif wind_damage == \"widespread\":\n",
    "    category = cat + 2\n",
    "elif wind_damage == \"extensive\":\n",
    "    category = cat + 3\n",
    "elif wind_damage == \"devastating\":\n",
    "    category = cat + 4\n",
    "elif wind_damage == \"catastrphic\":\n",
    "    category = cat + 5\n",
    "print(f\"{wind_damage} damage, category {category}.\" )"
   ]
  },
  {
   "cell_type": "markdown",
   "metadata": {},
   "source": [
    "But this code could be made much more efficient using a dictionary to store the damage and increment."
   ]
  },
  {
   "cell_type": "code",
   "execution_count": 59,
   "metadata": {},
   "outputs": [
    {
     "name": "stdout",
     "output_type": "stream",
     "text": [
      "minimal damage, category 1.\n"
     ]
    }
   ],
   "source": [
    "wind_damage = \"minimal\"\n",
    "cat = 0\n",
    "wind_scale = {\"minimal\": 1, \"widespread\": 2, \"extensive\": 3, \"devastating\": 4, \"catastrphic\": 5}\n",
    "print(f\"{wind_damage} damage, category {cat + wind_scale[wind_damage]}.\" )"
   ]
  },
  {
   "cell_type": "markdown",
   "metadata": {},
   "source": [
    "The code below uses conditionals to set the parcel usage based on a code.  Run the code to see what it prints.  "
   ]
  },
  {
   "cell_type": "code",
   "execution_count": 60,
   "metadata": {},
   "outputs": [
    {
     "name": "stdout",
     "output_type": "stream",
     "text": [
      "Code 004 has usage Condos.\n"
     ]
    }
   ],
   "source": [
    "code = \"004\"\n",
    "usage = None\n",
    "if code == \"000\":\n",
    "    usage = \"Vacation\"\n",
    "elif code == \"003\":\n",
    "    usage = \"Multi-fam\"\n",
    "elif code == \"004\":\n",
    "    usage = \"Condos\"\n",
    "print(f\"Code {code} has usage {usage}.\" )"
   ]
  },
  {
   "cell_type": "markdown",
   "metadata": {},
   "source": [
    "(Q9) Modify this code to use a dictionary instead of conditional statements.  Create a code-usage dictionary.  The use the dictionary to print the usage based on the code (key)."
   ]
  },
  {
   "cell_type": "code",
   "execution_count": 63,
   "metadata": {},
   "outputs": [
    {
     "name": "stdout",
     "output_type": "stream",
     "text": [
      "Code 004 has usage Condos.\n"
     ]
    }
   ],
   "source": [
    "code = \"004\"\n",
    "usage = None\n",
    "usage_dict = {\"000\":\"Vacation\",\"003\":\"Multi-fam\",\"004\":\"Condos\"}\n",
    " \n",
    "print(f\"Code {code} has usage {usage_dict[code]}.\" )"
   ]
  },
  {
   "cell_type": "markdown",
   "metadata": {},
   "source": [
    "(Q10) Test the dictionary on a list of codes. Add code to loop over the list and print the usage for each code."
   ]
  },
  {
   "cell_type": "code",
   "execution_count": 66,
   "metadata": {},
   "outputs": [
    {
     "name": "stdout",
     "output_type": "stream",
     "text": [
      "003\n",
      "004\n"
     ]
    }
   ],
   "source": [
    "codes = [\"003\", \"004\"]\n",
    "for code in codes:\n",
    "    print(code)"
   ]
  },
  {
   "cell_type": "markdown",
   "metadata": {},
   "source": [
    "(Q11) Below is another list that contains a code that is not in the dictionary.   Can you modify your loop so that it won't throw an error if you try a key that is not in the dictionary?"
   ]
  },
  {
   "cell_type": "code",
   "execution_count": 67,
   "metadata": {},
   "outputs": [
    {
     "name": "stdout",
     "output_type": "stream",
     "text": [
      "006 not found.\n",
      "003\n",
      "004\n"
     ]
    }
   ],
   "source": [
    "codes = [\"006\", \"003\", \"004\"]\n",
    "\n",
    "for code in codes:\n",
    "    if code in usage_dict:\n",
    "        print(code)\n",
    "    else:\n",
    "        print(f\"{code} not found.\")"
   ]
  }
 ],
 "metadata": {
  "kernelspec": {
   "display_name": "Python 3",
   "language": "python",
   "name": "python3"
  },
  "language_info": {
   "codemirror_mode": {
    "name": "ipython",
    "version": 3
   },
   "file_extension": ".py",
   "mimetype": "text/x-python",
   "name": "python",
   "nbconvert_exporter": "python",
   "pygments_lexer": "ipython3",
   "version": "3.9.18"
  }
 },
 "nbformat": 4,
 "nbformat_minor": 2
}
